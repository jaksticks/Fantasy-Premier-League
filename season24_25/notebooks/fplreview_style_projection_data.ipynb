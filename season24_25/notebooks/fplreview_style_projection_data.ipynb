{
 "cells": [
  {
   "cell_type": "markdown",
   "metadata": {},
   "source": [
    "This notebook is used to create a csv file that includes my point projections in a format similar to fplreview.com. This csv file can then be used for making advanced team optimization plans using Sertalp B. Cay's repo \"fpl-optimization\"."
   ]
  },
  {
   "cell_type": "code",
   "execution_count": null,
   "metadata": {},
   "outputs": [],
   "source": [
    "latest_gameweek = 27"
   ]
  },
  {
   "cell_type": "code",
   "execution_count": null,
   "metadata": {},
   "outputs": [],
   "source": [
    "import numpy as np\n",
    "import pandas as pd\n",
    "from pathlib import Path\n",
    "import json"
   ]
  },
  {
   "cell_type": "markdown",
   "metadata": {},
   "source": [
    "# Save team data\n",
    "Info on your own team; starting point for the optimization."
   ]
  },
  {
   "cell_type": "code",
   "execution_count": null,
   "metadata": {},
   "outputs": [],
   "source": [
    "# get login credentials for fetching team data\n",
    "#file_path = Path('../../login_credentials/fpl_login.json')\n",
    "file_path = Path('../../login_credentials/fpl_login2.json')\n",
    "login_credentials = pd.read_json(file_path, typ='series')"
   ]
  },
  {
   "cell_type": "code",
   "execution_count": null,
   "metadata": {},
   "outputs": [],
   "source": [
    "# utility function for fetching team data\n",
    "from src.utils import fetch_my_team"
   ]
  },
  {
   "cell_type": "code",
   "execution_count": null,
   "metadata": {},
   "outputs": [],
   "source": [
    "# fetch my team data\n",
    "my_team = fetch_my_team(login_credentials.user_name, login_credentials.password, login_credentials.team_id)\n",
    "my_team"
   ]
  },
  {
   "cell_type": "code",
   "execution_count": null,
   "metadata": {},
   "outputs": [],
   "source": [
    "# save team data to fpl-optimization repo\n",
    "file_path = Path('../../../fpl-optimization/data/team.json')\n",
    "with open(file_path, 'w') as f:\n",
    "    json.dump(my_team, f)"
   ]
  },
  {
   "cell_type": "markdown",
   "metadata": {},
   "source": [
    "# Edit projections into fplreview format \n",
    "### (to be used with fpl-optimization repo solver)"
   ]
  },
  {
   "cell_type": "code",
   "execution_count": null,
   "metadata": {},
   "outputs": [],
   "source": [
    "filepath = Path(f'../data/predictions/gameweek{latest_gameweek}.csv')\n",
    "projections = pd.read_csv(filepath, index_col=0)\n",
    "if 'id' in projections.columns:\n",
    "    projections = projections.drop('id', axis=1)\n",
    "display(projections.head())\n",
    "display(projections.shape)"
   ]
  },
  {
   "cell_type": "code",
   "execution_count": null,
   "metadata": {},
   "outputs": [],
   "source": [
    "if latest_gameweek>0:\n",
    "    filepath = Path('../data/fpl_df.csv')\n",
    "elif latest_gameweek==0:\n",
    "    filepath = Path('../data/fpl_df_preseason_online.csv')\n",
    "else:\n",
    "    print('Check latest_gameweek!')\n",
    "\n",
    "fpl_df = pd.read_csv(filepath, index_col=0, low_memory=False)\n",
    "fpl_df = fpl_df[fpl_df.season=='24-25']\n",
    "display(fpl_df.head())\n",
    "display(fpl_df.shape)"
   ]
  },
  {
   "cell_type": "code",
   "execution_count": null,
   "metadata": {},
   "outputs": [],
   "source": [
    "df = fpl_df.groupby('name').last().reset_index()[['id', 'name','points_per_game', 'total_points',]]\n",
    "#df['id'] = df.id.astype(int)\n",
    "df['games_played'] = np.round(np.where(df['points_per_game']!=0, df['total_points'] / df['points_per_game'], 0),0)\n",
    "display(df.head())\n",
    "display(df.shape)"
   ]
  },
  {
   "cell_type": "code",
   "execution_count": null,
   "metadata": {},
   "outputs": [],
   "source": [
    "# drop duplicate players (some players get new spelling for their name during the season causing duplicates)\n",
    "duplicate_ids = df.loc[df.id.duplicated(), 'id'].unique()\n",
    "for id in duplicate_ids:\n",
    "    ix = df.loc[df.id==id, 'games_played'].idxmin()\n",
    "    df = df.drop(ix)\n",
    "display(df.head())\n",
    "display(df.shape)"
   ]
  },
  {
   "cell_type": "code",
   "execution_count": null,
   "metadata": {},
   "outputs": [],
   "source": [
    "# drop unneccesary columns\n",
    "df = df.drop(['points_per_game', 'total_points','games_played'], axis=1)\n",
    "display(df.head())\n",
    "display(df.shape)"
   ]
  },
  {
   "cell_type": "code",
   "execution_count": null,
   "metadata": {},
   "outputs": [],
   "source": [
    "# merge id info to projections\n",
    "projections = projections.merge(df, on='name', how='left')\n",
    "projections.head()"
   ]
  },
  {
   "cell_type": "code",
   "execution_count": null,
   "metadata": {},
   "outputs": [],
   "source": [
    "# add xMins variable that is needed later\n",
    "projections['xMins'] = 90"
   ]
  },
  {
   "cell_type": "code",
   "execution_count": null,
   "metadata": {},
   "outputs": [],
   "source": [
    "projections[['id', 'expected_points', 'xMins', 'gameweek']]"
   ]
  },
  {
   "cell_type": "code",
   "execution_count": null,
   "metadata": {},
   "outputs": [],
   "source": [
    "projections_pivot = (\n",
    "    projections\n",
    "    .pivot_table(\n",
    "    columns=['gameweek',],\n",
    "    index='id', \n",
    "    values=['expected_points','xMins'], \n",
    "    aggfunc='sum'\n",
    "    )\n",
    ")\n",
    "\n",
    "projections_pivot.head()"
   ]
  },
  {
   "cell_type": "code",
   "execution_count": null,
   "metadata": {},
   "outputs": [],
   "source": [
    "new_cols = []\n",
    "for col in projections_pivot.columns:\n",
    "    if col[0] == 'expected_points':\n",
    "        new_col = str(col[1]) + '_Pts'\n",
    "        new_cols.append(new_col)\n",
    "    elif col[0] == 'xMins':\n",
    "        new_col = str(col[1]) + '_xMins'\n",
    "        new_cols.append(new_col)\n",
    "\n",
    "projections_pivot.columns = new_cols\n",
    "projections_pivot = projections_pivot.reset_index()\n",
    "projections_pivot = projections_pivot.rename(columns={'id':'ID'})\n",
    "\n",
    "projections_pivot.head()"
   ]
  },
  {
   "cell_type": "code",
   "execution_count": null,
   "metadata": {},
   "outputs": [],
   "source": [
    "filepath = Path('../../../fpl-optimization/data/fplreview.csv')\n",
    "projections_pivot.to_csv(filepath)"
   ]
  },
  {
   "cell_type": "markdown",
   "metadata": {},
   "source": [
    "### Option to make manual changes, e.g., to xPts (based on injuries)"
   ]
  },
  {
   "cell_type": "markdown",
   "metadata": {},
   "source": [
    "### adjust points\n",
    "\n",
    "If model is underestimating e.g. Haaland currently, test how many points more he would need to be getting in order to be drafed to the team in the optimization."
   ]
  },
  {
   "cell_type": "code",
   "execution_count": null,
   "metadata": {},
   "outputs": [],
   "source": [
    "projections.loc[projections['name'].str.contains('Have'), 'id'].unique()\n",
    "#projections.loc[projections['name'].str.contains('Palme'), 'id'].unique()"
   ]
  },
  {
   "cell_type": "code",
   "execution_count": null,
   "metadata": {},
   "outputs": [],
   "source": [
    "player_id = 4\n",
    "display(projections.loc[projections.id==player_id, 'name'].unique())\n",
    "display(projections_pivot[projections_pivot.ID==player_id])"
   ]
  },
  {
   "cell_type": "code",
   "execution_count": null,
   "metadata": {},
   "outputs": [],
   "source": [
    "pts_cols = [col for col in projections_pivot.columns if 'Pts' in col]\n",
    "projections_pivot.loc[projections_pivot.ID==player_id, pts_cols].sum(axis=1) / 10"
   ]
  },
  {
   "cell_type": "code",
   "execution_count": null,
   "metadata": {},
   "outputs": [],
   "source": [
    "gameweeks = np.arange(latest_gameweek+1,latest_gameweek+11)\n",
    "add_constant = -0.5\n",
    "\n",
    "for i in range(len(gameweeks)):\n",
    "    projections_pivot.loc[projections_pivot.ID==player_id, f'{gameweeks[i]}_Pts'] = \\\n",
    "        projections_pivot.loc[projections_pivot.ID==player_id, f'{gameweeks[i]}_Pts'] + add_constant\n",
    "\n",
    "display(projections_pivot[projections_pivot.ID==player_id])"
   ]
  },
  {
   "cell_type": "markdown",
   "metadata": {},
   "source": [
    "### Adjust points for unavailable players or players with uncertain availability"
   ]
  },
  {
   "cell_type": "code",
   "execution_count": null,
   "metadata": {},
   "outputs": [],
   "source": [
    "def adjust_points_via_weights(player_id, gameweeks, weights):\n",
    "    '''Adjust projected player points via gameweek specific weights indicating probability of playing.\n",
    "\n",
    "    Input:\n",
    "    player_id (int): Player ID number.\n",
    "    gameweeks (list): List of gameweek numbers to be adjusted.\n",
    "    weights (list): Weights for adjusting points for each gameweek given in parameter gameweeks.\n",
    "    '''\n",
    "    player_name = projections.loc[projections.id==player_id, 'name'].unique().item()\n",
    "    print(f'Name: {player_name}')\n",
    "    print('Point predictions before adjustment:')\n",
    "    display(projections_pivot[projections_pivot.ID==player_id])\n",
    "\n",
    "    # adjust points via probability of playing\n",
    "    for i in range(len(gameweeks)):\n",
    "        projections_pivot.loc[projections_pivot.ID==player_id, f'{gameweeks[i]}_Pts'] = \\\n",
    "            weights[i]*projections_pivot.loc[projections_pivot.ID==player_id, f'{gameweeks[i]}_Pts']\n",
    "        \n",
    "    print('Point predictions after adjustment:')\n",
    "    display(projections_pivot[projections_pivot.ID==player_id])"
   ]
  },
  {
   "cell_type": "code",
   "execution_count": null,
   "metadata": {},
   "outputs": [],
   "source": [
    "# Check player_id\n",
    "projections.loc[projections['name'].str.contains('Gakpo'), 'id'].unique()"
   ]
  },
  {
   "cell_type": "code",
   "execution_count": null,
   "metadata": {},
   "outputs": [],
   "source": [
    "player_id = 321\n",
    "display(projections.loc[projections.id==player_id, 'name'].unique())"
   ]
  },
  {
   "cell_type": "code",
   "execution_count": null,
   "metadata": {},
   "outputs": [],
   "source": [
    "adjust_points_via_weights(player_id=473, gameweeks=[28,29,30,31,32,33,34,35], weights=[0.25,0.25,0.25,0.25,0.25,0.25,0.25,0.25])"
   ]
  },
  {
   "cell_type": "code",
   "execution_count": null,
   "metadata": {},
   "outputs": [],
   "source": [
    "adjust_points_via_weights(player_id=541, gameweeks=[28,29,30], weights=[0,0,0])"
   ]
  },
  {
   "cell_type": "code",
   "execution_count": null,
   "metadata": {},
   "outputs": [],
   "source": [
    "adjust_points_via_weights(player_id=207, gameweeks=[28,29,30], weights=[0.25,0.5,0.75])"
   ]
  },
  {
   "cell_type": "code",
   "execution_count": null,
   "metadata": {},
   "outputs": [],
   "source": [
    "adjust_points_via_weights(player_id=398, gameweeks=[28,29,30], weights=[0,0,0])"
   ]
  },
  {
   "cell_type": "code",
   "execution_count": null,
   "metadata": {},
   "outputs": [],
   "source": [
    "adjust_points_via_weights(player_id=321, gameweeks=[28], weights=[0.75])"
   ]
  },
  {
   "cell_type": "code",
   "execution_count": null,
   "metadata": {},
   "outputs": [],
   "source": [
    "filepath = Path('../../../fpl-optimization/data/fplreview.csv')\n",
    "projections_pivot.to_csv(filepath)"
   ]
  },
  {
   "cell_type": "markdown",
   "metadata": {},
   "source": [
    "# Other stuff"
   ]
  },
  {
   "cell_type": "code",
   "execution_count": null,
   "metadata": {},
   "outputs": [],
   "source": [
    "# check ids\n",
    "projections.loc[projections['name'].str.contains('Jebbiso'), ['id','name']]"
   ]
  },
  {
   "cell_type": "code",
   "execution_count": null,
   "metadata": {},
   "outputs": [],
   "source": [
    "projections.loc[projections.id==4, ['name','team_name']]"
   ]
  },
  {
   "cell_type": "code",
   "execution_count": null,
   "metadata": {},
   "outputs": [],
   "source": [
    "# banned players from solver \n",
    "projections.loc[projections.id.isin([333, 25, 325, 142, 466, 558, 396, 275, 17, 230, 4]), 'name'].unique()"
   ]
  },
  {
   "cell_type": "code",
   "execution_count": null,
   "metadata": {},
   "outputs": [],
   "source": [
    "projections[projections.id==24]"
   ]
  },
  {
   "cell_type": "code",
   "execution_count": null,
   "metadata": {},
   "outputs": [],
   "source": [
    "projections_pivot.columns"
   ]
  },
  {
   "cell_type": "code",
   "execution_count": null,
   "metadata": {},
   "outputs": [],
   "source": []
  }
 ],
 "metadata": {
  "kernelspec": {
   "display_name": "fpl",
   "language": "python",
   "name": "python3"
  },
  "language_info": {
   "codemirror_mode": {
    "name": "ipython",
    "version": 3
   },
   "file_extension": ".py",
   "mimetype": "text/x-python",
   "name": "python",
   "nbconvert_exporter": "python",
   "pygments_lexer": "ipython3",
   "version": "3.12.9"
  }
 },
 "nbformat": 4,
 "nbformat_minor": 2
}
