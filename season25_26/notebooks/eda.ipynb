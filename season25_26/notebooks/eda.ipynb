{
 "cells": [
  {
   "cell_type": "code",
   "execution_count": null,
   "metadata": {},
   "outputs": [],
   "source": [
    "import pandas as pd\n",
    "import numpy as np\n",
    "import json\n",
    "import requests\n",
    "from pathlib import Path\n",
    "\n",
    "pd.set_option('display.max_columns', 300)"
   ]
  },
  {
   "cell_type": "code",
   "execution_count": null,
   "metadata": {},
   "outputs": [],
   "source": [
    "teams = ['Arsenal', 'Aston Villa', 'Bournemouth', 'Brentford', 'Brighton', 'Burnley', 'Chelsea', 'Crystal Palace', 'Everton', 'Fulham', 'Leeds', 'Liverpool', 'Manchester City', 'Manchester Utd', 'Newcastle Utd', 'Nottingham Forest', 'Tottenham', 'Sunderland', 'West Ham', 'Wolves']"
   ]
  },
  {
   "cell_type": "code",
   "execution_count": null,
   "metadata": {},
   "outputs": [],
   "source": [
    "# fetch FPL data online\n",
    "fpl_online_data = json.loads(requests.get('https://fantasy.premierleague.com/api/bootstrap-static/').text)\n",
    "fpl_online_df = pd.DataFrame(fpl_online_data['elements'])\n",
    "fpl_online_df['team_name'] = [teams[i] for i in fpl_online_df['team']-1]\n",
    "fpl_online_df['name'] = fpl_online_df.apply(lambda x: x['first_name'] + ' ' + x['second_name'], axis=1)\n",
    "fpl_online_df['season'] = '25-26'\n",
    "fpl_online_df"
   ]
  },
  {
   "cell_type": "code",
   "execution_count": null,
   "metadata": {},
   "outputs": [],
   "source": [
    "fpl_online_df[fpl_online_df.team_name == 'Liverpool']"
   ]
  },
  {
   "cell_type": "code",
   "execution_count": null,
   "metadata": {},
   "outputs": [],
   "source": [
    "[col for col in fpl_online_df.columns if 'defensive' in col]"
   ]
  },
  {
   "cell_type": "code",
   "execution_count": null,
   "metadata": {},
   "outputs": [],
   "source": [
    "fpl_online_df[fpl_online_df.second_name.str.contains('Szobo')]"
   ]
  },
  {
   "cell_type": "code",
   "execution_count": null,
   "metadata": {},
   "outputs": [],
   "source": [
    "# Statshead data\n",
    "data1 = pd.read_csv('../../../misc/pl24-25_data1.csv', header=[0,1])\n",
    "\n",
    "# edit column names that have unnamed main headers\n",
    "new_columns = [('General',col[1]) if 'Unnamed' in col[0] \\\n",
    "                else col for col in data1.columns]\n",
    "data1.columns = pd.MultiIndex.from_tuples(new_columns)\n",
    "\n",
    "# remove duplicate columns, keeping the last occurrence\n",
    "data1 = data1.loc[:,~data1.columns.duplicated(keep='last')] \n",
    "\n",
    "data1"
   ]
  },
  {
   "cell_type": "code",
   "execution_count": null,
   "metadata": {},
   "outputs": [],
   "source": [
    "# Statshead data\n",
    "data2 = pd.read_csv('../../../misc/pl24-25_data2.csv', header=[0,1])\n",
    "\n",
    "# edit column names that have unnamed main headers\n",
    "new_columns = [('General',col[1]) if 'Unnamed' in col[0] \\\n",
    "                else col for col in data2.columns]\n",
    "data2.columns = pd.MultiIndex.from_tuples(new_columns)\n",
    "\n",
    "# remove duplicate columns, keeping the last occurrence\n",
    "data2 = data2.loc[:,~data2.columns.duplicated(keep='last')] \n",
    "\n",
    "data2"
   ]
  },
  {
   "cell_type": "code",
   "execution_count": null,
   "metadata": {},
   "outputs": [],
   "source": [
    "data_combined = pd.concat([data1, data2], axis=0, ignore_index=True)\n",
    "data_combined = data_combined[~data_combined.duplicated(subset=[('General', 'Player'), ('General', 'Date')], keep='first')]\n",
    "data_combined"
   ]
  },
  {
   "cell_type": "code",
   "execution_count": null,
   "metadata": {},
   "outputs": [],
   "source": [
    "data_combined['CBIT'] = data_combined[('General', 'Tkl+Int')] + data_combined[('Blocks', 'Blocks')] + data_combined[('General', 'Clr')]"
   ]
  },
  {
   "cell_type": "code",
   "execution_count": null,
   "metadata": {},
   "outputs": [],
   "source": [
    "df = data_combined[(data_combined.CBIT>=10) & (data_combined[('General', 'Pos.')] == 'DF')]\n",
    "df"
   ]
  },
  {
   "cell_type": "code",
   "execution_count": null,
   "metadata": {},
   "outputs": [],
   "source": [
    "len(df[df[('General', 'Player')] == 'Murillo'])"
   ]
  },
  {
   "cell_type": "code",
   "execution_count": null,
   "metadata": {},
   "outputs": [],
   "source": [
    "len(df[df[('General', 'Player')] == 'James Tarkowski'])"
   ]
  },
  {
   "cell_type": "code",
   "execution_count": null,
   "metadata": {},
   "outputs": [],
   "source": [
    "len(df[df[('General', 'Player')] == 'Jan Bednarek'])"
   ]
  },
  {
   "cell_type": "code",
   "execution_count": null,
   "metadata": {},
   "outputs": [],
   "source": [
    "len(df[df[('General', 'Player')] == 'Wout Faes'])"
   ]
  },
  {
   "cell_type": "code",
   "execution_count": null,
   "metadata": {},
   "outputs": [],
   "source": [
    "len(data_combined[data_combined[('General', 'Player')] == 'Wout Faes'])"
   ]
  },
  {
   "cell_type": "code",
   "execution_count": null,
   "metadata": {},
   "outputs": [],
   "source": [
    "len(data_combined[data_combined[('General', 'Player')] == 'Murillo'])"
   ]
  },
  {
   "cell_type": "code",
   "execution_count": null,
   "metadata": {},
   "outputs": [],
   "source": [
    "len(data_combined[data_combined[('General', 'Player')] == 'Murillo'])"
   ]
  },
  {
   "cell_type": "markdown",
   "metadata": {},
   "source": [
    "## fpl_df"
   ]
  },
  {
   "cell_type": "code",
   "execution_count": null,
   "metadata": {},
   "outputs": [],
   "source": [
    "fpl_df = pd.read_csv('../data/fpl_df.csv', index_col=0)\n",
    "fpl_df"
   ]
  },
  {
   "cell_type": "code",
   "execution_count": null,
   "metadata": {},
   "outputs": [],
   "source": [
    "fpl_df[[col for col in fpl_online_df.columns if 'defensive' in col]]"
   ]
  },
  {
   "cell_type": "code",
   "execution_count": null,
   "metadata": {},
   "outputs": [],
   "source": [
    "fpl_df[fpl_df.name.str.contains('Szobo').fillna(False)]"
   ]
  },
  {
   "cell_type": "code",
   "execution_count": null,
   "metadata": {},
   "outputs": [],
   "source": [
    "col = 'defensive_contribution'\n",
    "aux = fpl_df.groupby(['first_name', 'second_name', 'season'])[col].diff()\n",
    "aux.notnull().sum()"
   ]
  },
  {
   "cell_type": "code",
   "execution_count": null,
   "metadata": {},
   "outputs": [],
   "source": [
    "fpl_df.groupby(['first_name', 'second_name', 'season'])[col].mean().reset_index().tail(50)"
   ]
  },
  {
   "cell_type": "code",
   "execution_count": null,
   "metadata": {},
   "outputs": [],
   "source": [
    "def my_fill_na(x, gameweek_col, diff_col):\n",
    "    '''Fill nan values for first items for grouped variables where diff is calculated. But also don't fill for season 22-23,\n",
    "    where data is missing for a number of weeks at the beginning of the season.'''\n",
    "    my_value = x[diff_col] if (np.isnan(x[gameweek_col])) & (x['minutes']<=90) else x[gameweek_col]\n",
    "    return my_value"
   ]
  },
  {
   "cell_type": "code",
   "execution_count": null,
   "metadata": {},
   "outputs": [],
   "source": [
    "fpl_df[f'gameweek_{col}']"
   ]
  },
  {
   "cell_type": "code",
   "execution_count": null,
   "metadata": {},
   "outputs": [],
   "source": [
    "fpl_df[[col for col in fpl_df.columns if 'defensive' in col]]"
   ]
  },
  {
   "cell_type": "code",
   "execution_count": null,
   "metadata": {},
   "outputs": [],
   "source": []
  }
 ],
 "metadata": {
  "kernelspec": {
   "display_name": "fpl",
   "language": "python",
   "name": "python3"
  },
  "language_info": {
   "codemirror_mode": {
    "name": "ipython",
    "version": 3
   },
   "file_extension": ".py",
   "mimetype": "text/x-python",
   "name": "python",
   "nbconvert_exporter": "python",
   "pygments_lexer": "ipython3",
   "version": "3.12.9"
  }
 },
 "nbformat": 4,
 "nbformat_minor": 2
}
